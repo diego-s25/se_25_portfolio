{
 "cells": [
  {
   "cell_type": "markdown",
   "metadata": {},
   "source": [
    "# Preliminary analysis of an own project\n",
    "\n",
    "## 1. Goal\n",
    "\n",
    "### Main question:\n",
    "Is El Salvador's economy actually improving or declining?\n",
    "\n",
    "### Subquestions:\n",
    "- Where is El Salvador's economy right now?\n",
    "- What is El Salvador's economy's growth rate?\n",
    "- How long will it take for El Salvador's economy's size to double?\n",
    "- How has El Salvador's econoomy fluctuated throughout the years?"
   ]
  },
  {
   "cell_type": "code",
   "execution_count": 18,
   "metadata": {
    "scrolled": true
   },
   "outputs": [
    {
     "data": {
      "text/html": [
       "<div>\n",
       "<style scoped>\n",
       "    .dataframe tbody tr th:only-of-type {\n",
       "        vertical-align: middle;\n",
       "    }\n",
       "\n",
       "    .dataframe tbody tr th {\n",
       "        vertical-align: top;\n",
       "    }\n",
       "\n",
       "    .dataframe thead th {\n",
       "        text-align: right;\n",
       "    }\n",
       "</style>\n",
       "<table border=\"1\" class=\"dataframe\">\n",
       "  <thead>\n",
       "    <tr style=\"text-align: right;\">\n",
       "      <th></th>\n",
       "      <th>Country Name</th>\n",
       "      <th>Country ISO3</th>\n",
       "      <th>Year</th>\n",
       "      <th>Indicator Name</th>\n",
       "      <th>Indicator Code</th>\n",
       "      <th>Value</th>\n",
       "    </tr>\n",
       "  </thead>\n",
       "  <tbody>\n",
       "    <tr>\n",
       "      <th>0</th>\n",
       "      <td>#country+name</td>\n",
       "      <td>#country+code</td>\n",
       "      <td>#date+year</td>\n",
       "      <td>#indicator+name</td>\n",
       "      <td>#indicator+code</td>\n",
       "      <td>#indicator+value+num</td>\n",
       "    </tr>\n",
       "    <tr>\n",
       "      <th>1</th>\n",
       "      <td>El Salvador</td>\n",
       "      <td>SLV</td>\n",
       "      <td>1971</td>\n",
       "      <td>Agricultural machinery, tractors</td>\n",
       "      <td>AG.AGR.TRAC.NO</td>\n",
       "      <td>2642</td>\n",
       "    </tr>\n",
       "    <tr>\n",
       "      <th>2</th>\n",
       "      <td>El Salvador</td>\n",
       "      <td>SLV</td>\n",
       "      <td>1970</td>\n",
       "      <td>Agricultural machinery, tractors</td>\n",
       "      <td>AG.AGR.TRAC.NO</td>\n",
       "      <td>2500</td>\n",
       "    </tr>\n",
       "    <tr>\n",
       "      <th>3</th>\n",
       "      <td>El Salvador</td>\n",
       "      <td>SLV</td>\n",
       "      <td>1969</td>\n",
       "      <td>Agricultural machinery, tractors</td>\n",
       "      <td>AG.AGR.TRAC.NO</td>\n",
       "      <td>2400</td>\n",
       "    </tr>\n",
       "    <tr>\n",
       "      <th>4</th>\n",
       "      <td>El Salvador</td>\n",
       "      <td>SLV</td>\n",
       "      <td>1968</td>\n",
       "      <td>Agricultural machinery, tractors</td>\n",
       "      <td>AG.AGR.TRAC.NO</td>\n",
       "      <td>2300</td>\n",
       "    </tr>\n",
       "  </tbody>\n",
       "</table>\n",
       "</div>"
      ],
      "text/plain": [
       "    Country Name   Country ISO3        Year                    Indicator Name  \\\n",
       "0  #country+name  #country+code  #date+year                   #indicator+name   \n",
       "1    El Salvador            SLV        1971  Agricultural machinery, tractors   \n",
       "2    El Salvador            SLV        1970  Agricultural machinery, tractors   \n",
       "3    El Salvador            SLV        1969  Agricultural machinery, tractors   \n",
       "4    El Salvador            SLV        1968  Agricultural machinery, tractors   \n",
       "\n",
       "    Indicator Code                 Value  \n",
       "0  #indicator+code  #indicator+value+num  \n",
       "1   AG.AGR.TRAC.NO                  2642  \n",
       "2   AG.AGR.TRAC.NO                  2500  \n",
       "3   AG.AGR.TRAC.NO                  2400  \n",
       "4   AG.AGR.TRAC.NO                  2300  "
      ]
     },
     "execution_count": 18,
     "metadata": {},
     "output_type": "execute_result"
    }
   ],
   "source": [
    "import pandas as pd\n",
    "import seaborn as sns\n",
    "import matplotlib.pyplot as plt\n",
    "\n",
    "df1 = pd.read_csv(\"datasets/indicators_slv.csv\")\n",
    "df1.head()"
   ]
  },
  {
   "cell_type": "markdown",
   "metadata": {},
   "source": [
    "## 2. Data Handling\n",
    "\n",
    "### Reflections on my dataset:\n",
    "The dataset at hand was collected by the World Bank Group (through member countries' statistical systems). This gives us a rather high degree of confidence in the quality and integrity of the data.\n",
    "\n",
    "### What needs to be cleaned and preprocessed:\n",
    "The original dataset's structure is quite far from ideal to work with, mainly because of its lack of a proper index (Originally \"El Salvador\", probably because it is extracted from a larger dataset where the index is the country's name). Therefore the first step will be to set the index to years. Then, given the large amount of different indicators (most of which I will not be using) and the fact that said indicators are spread through rows and not columns, I will create new columns from the indicators I will be taking into account. After removing unneeded indicators, I will be setting the values of the original \"Value\" column to their corresponding rows based on their year. Finally checking for any inconsistencies in data types and filling in missing values where needed."
   ]
  },
  {
   "cell_type": "code",
   "execution_count": 19,
   "metadata": {},
   "outputs": [
    {
     "data": {
      "text/html": [
       "<div>\n",
       "<style scoped>\n",
       "    .dataframe tbody tr th:only-of-type {\n",
       "        vertical-align: middle;\n",
       "    }\n",
       "\n",
       "    .dataframe tbody tr th {\n",
       "        vertical-align: top;\n",
       "    }\n",
       "\n",
       "    .dataframe thead th {\n",
       "        text-align: right;\n",
       "    }\n",
       "</style>\n",
       "<table border=\"1\" class=\"dataframe\">\n",
       "  <thead>\n",
       "    <tr style=\"text-align: right;\">\n",
       "      <th></th>\n",
       "      <th>Year</th>\n",
       "      <th>Indicator Name</th>\n",
       "      <th>Value</th>\n",
       "    </tr>\n",
       "  </thead>\n",
       "  <tbody>\n",
       "    <tr>\n",
       "      <th>0</th>\n",
       "      <td>#date+year</td>\n",
       "      <td>#indicator+name</td>\n",
       "      <td>#indicator+value+num</td>\n",
       "    </tr>\n",
       "    <tr>\n",
       "      <th>1</th>\n",
       "      <td>1971</td>\n",
       "      <td>Agricultural machinery, tractors</td>\n",
       "      <td>2642</td>\n",
       "    </tr>\n",
       "    <tr>\n",
       "      <th>2</th>\n",
       "      <td>1970</td>\n",
       "      <td>Agricultural machinery, tractors</td>\n",
       "      <td>2500</td>\n",
       "    </tr>\n",
       "    <tr>\n",
       "      <th>3</th>\n",
       "      <td>1969</td>\n",
       "      <td>Agricultural machinery, tractors</td>\n",
       "      <td>2400</td>\n",
       "    </tr>\n",
       "    <tr>\n",
       "      <th>4</th>\n",
       "      <td>1968</td>\n",
       "      <td>Agricultural machinery, tractors</td>\n",
       "      <td>2300</td>\n",
       "    </tr>\n",
       "  </tbody>\n",
       "</table>\n",
       "</div>"
      ],
      "text/plain": [
       "         Year                    Indicator Name                 Value\n",
       "0  #date+year                   #indicator+name  #indicator+value+num\n",
       "1        1971  Agricultural machinery, tractors                  2642\n",
       "2        1970  Agricultural machinery, tractors                  2500\n",
       "3        1969  Agricultural machinery, tractors                  2400\n",
       "4        1968  Agricultural machinery, tractors                  2300"
      ]
     },
     "execution_count": 19,
     "metadata": {},
     "output_type": "execute_result"
    }
   ],
   "source": [
    "df1.drop(['Country Name', 'Country ISO3', 'Indicator Code'], axis = 1, inplace=True)\n",
    "df1.head()"
   ]
  },
  {
   "cell_type": "code",
   "execution_count": 20,
   "metadata": {},
   "outputs": [
    {
     "name": "stderr",
     "output_type": "stream",
     "text": [
      "/opt/anaconda3/lib/python3.8/site-packages/pandas/core/frame.py:4125: SettingWithCopyWarning: \n",
      "A value is trying to be set on a copy of a slice from a DataFrame\n",
      "\n",
      "See the caveats in the documentation: https://pandas.pydata.org/pandas-docs/stable/user_guide/indexing.html#returning-a-view-versus-a-copy\n",
      "  return super().rename(\n",
      "/opt/anaconda3/lib/python3.8/site-packages/pandas/core/frame.py:3990: SettingWithCopyWarning: \n",
      "A value is trying to be set on a copy of a slice from a DataFrame\n",
      "\n",
      "See the caveats in the documentation: https://pandas.pydata.org/pandas-docs/stable/user_guide/indexing.html#returning-a-view-versus-a-copy\n",
      "  return super().drop(\n"
     ]
    },
    {
     "data": {
      "text/html": [
       "<div>\n",
       "<style scoped>\n",
       "    .dataframe tbody tr th:only-of-type {\n",
       "        vertical-align: middle;\n",
       "    }\n",
       "\n",
       "    .dataframe tbody tr th {\n",
       "        vertical-align: top;\n",
       "    }\n",
       "\n",
       "    .dataframe thead th {\n",
       "        text-align: right;\n",
       "    }\n",
       "</style>\n",
       "<table border=\"1\" class=\"dataframe\">\n",
       "  <thead>\n",
       "    <tr style=\"text-align: right;\">\n",
       "      <th></th>\n",
       "      <th>GDP (current US$)</th>\n",
       "    </tr>\n",
       "    <tr>\n",
       "      <th>Year</th>\n",
       "      <th></th>\n",
       "    </tr>\n",
       "  </thead>\n",
       "  <tbody>\n",
       "    <tr>\n",
       "      <th>2018</th>\n",
       "      <td>26117400000</td>\n",
       "    </tr>\n",
       "    <tr>\n",
       "      <th>2017</th>\n",
       "      <td>24979200000</td>\n",
       "    </tr>\n",
       "    <tr>\n",
       "      <th>2016</th>\n",
       "      <td>24191440000</td>\n",
       "    </tr>\n",
       "    <tr>\n",
       "      <th>2015</th>\n",
       "      <td>23438240000</td>\n",
       "    </tr>\n",
       "    <tr>\n",
       "      <th>2014</th>\n",
       "      <td>22593480000</td>\n",
       "    </tr>\n",
       "  </tbody>\n",
       "</table>\n",
       "</div>"
      ],
      "text/plain": [
       "     GDP (current US$)\n",
       "Year                  \n",
       "2018       26117400000\n",
       "2017       24979200000\n",
       "2016       24191440000\n",
       "2015       23438240000\n",
       "2014       22593480000"
      ]
     },
     "execution_count": 20,
     "metadata": {},
     "output_type": "execute_result"
    }
   ],
   "source": [
    "df_gdp = df1[(df1[\"Indicator Name\"] == \"GDP (current US$)\") & (df1['Year'] <= \"2018\") & (df1['Year'] >= \"2010\")]\n",
    "df_gdp.set_index('Year', inplace=True)\n",
    "df_gdp.rename(columns={'Value': 'GDP (current US$)'}, inplace=True)\n",
    "df_gdp.drop(['Indicator Name'], axis = 1, inplace=True)\n",
    "df_gdp.head()"
   ]
  },
  {
   "cell_type": "code",
   "execution_count": 21,
   "metadata": {},
   "outputs": [
    {
     "name": "stderr",
     "output_type": "stream",
     "text": [
      "/opt/anaconda3/lib/python3.8/site-packages/pandas/core/frame.py:4125: SettingWithCopyWarning: \n",
      "A value is trying to be set on a copy of a slice from a DataFrame\n",
      "\n",
      "See the caveats in the documentation: https://pandas.pydata.org/pandas-docs/stable/user_guide/indexing.html#returning-a-view-versus-a-copy\n",
      "  return super().rename(\n",
      "/opt/anaconda3/lib/python3.8/site-packages/pandas/core/frame.py:3990: SettingWithCopyWarning: \n",
      "A value is trying to be set on a copy of a slice from a DataFrame\n",
      "\n",
      "See the caveats in the documentation: https://pandas.pydata.org/pandas-docs/stable/user_guide/indexing.html#returning-a-view-versus-a-copy\n",
      "  return super().drop(\n"
     ]
    },
    {
     "data": {
      "text/html": [
       "<div>\n",
       "<style scoped>\n",
       "    .dataframe tbody tr th:only-of-type {\n",
       "        vertical-align: middle;\n",
       "    }\n",
       "\n",
       "    .dataframe tbody tr th {\n",
       "        vertical-align: top;\n",
       "    }\n",
       "\n",
       "    .dataframe thead th {\n",
       "        text-align: right;\n",
       "    }\n",
       "</style>\n",
       "<table border=\"1\" class=\"dataframe\">\n",
       "  <thead>\n",
       "    <tr style=\"text-align: right;\">\n",
       "      <th></th>\n",
       "      <th>GDP growth (annual %)</th>\n",
       "    </tr>\n",
       "    <tr>\n",
       "      <th>Year</th>\n",
       "      <th></th>\n",
       "    </tr>\n",
       "  </thead>\n",
       "  <tbody>\n",
       "    <tr>\n",
       "      <th>2014</th>\n",
       "      <td>1.95194411277771</td>\n",
       "    </tr>\n",
       "    <tr>\n",
       "      <th>2013</th>\n",
       "      <td>1.84728670120239</td>\n",
       "    </tr>\n",
       "    <tr>\n",
       "      <th>2012</th>\n",
       "      <td>1.88095545768738</td>\n",
       "    </tr>\n",
       "    <tr>\n",
       "      <th>2011</th>\n",
       "      <td>2.21683549880981</td>\n",
       "    </tr>\n",
       "    <tr>\n",
       "      <th>2010</th>\n",
       "      <td>1.36478364467621</td>\n",
       "    </tr>\n",
       "  </tbody>\n",
       "</table>\n",
       "</div>"
      ],
      "text/plain": [
       "     GDP growth (annual %)\n",
       "Year                      \n",
       "2014      1.95194411277771\n",
       "2013      1.84728670120239\n",
       "2012      1.88095545768738\n",
       "2011      2.21683549880981\n",
       "2010      1.36478364467621"
      ]
     },
     "execution_count": 21,
     "metadata": {},
     "output_type": "execute_result"
    }
   ],
   "source": [
    "df_gdp_growth = df1[(df1[\"Indicator Name\"] == \"GDP growth (annual %)\") & (df1[\"Year\"] <= \"2018\") & (df1[\"Year\"] >= \"2010\")]\n",
    "df_gdp_growth.set_index('Year', inplace=True)\n",
    "df_gdp_growth.rename(columns={'Value': 'GDP growth (annual %)'}, inplace=True)\n",
    "df_gdp_growth.drop(['Indicator Name'], axis = 1, inplace=True)\n",
    "df_gdp_growth.head()"
   ]
  },
  {
   "cell_type": "code",
   "execution_count": 22,
   "metadata": {},
   "outputs": [
    {
     "name": "stderr",
     "output_type": "stream",
     "text": [
      "/opt/anaconda3/lib/python3.8/site-packages/pandas/core/frame.py:4125: SettingWithCopyWarning: \n",
      "A value is trying to be set on a copy of a slice from a DataFrame\n",
      "\n",
      "See the caveats in the documentation: https://pandas.pydata.org/pandas-docs/stable/user_guide/indexing.html#returning-a-view-versus-a-copy\n",
      "  return super().rename(\n",
      "/opt/anaconda3/lib/python3.8/site-packages/pandas/core/frame.py:3990: SettingWithCopyWarning: \n",
      "A value is trying to be set on a copy of a slice from a DataFrame\n",
      "\n",
      "See the caveats in the documentation: https://pandas.pydata.org/pandas-docs/stable/user_guide/indexing.html#returning-a-view-versus-a-copy\n",
      "  return super().drop(\n"
     ]
    },
    {
     "data": {
      "text/html": [
       "<div>\n",
       "<style scoped>\n",
       "    .dataframe tbody tr th:only-of-type {\n",
       "        vertical-align: middle;\n",
       "    }\n",
       "\n",
       "    .dataframe tbody tr th {\n",
       "        vertical-align: top;\n",
       "    }\n",
       "\n",
       "    .dataframe thead th {\n",
       "        text-align: right;\n",
       "    }\n",
       "</style>\n",
       "<table border=\"1\" class=\"dataframe\">\n",
       "  <thead>\n",
       "    <tr style=\"text-align: right;\">\n",
       "      <th></th>\n",
       "      <th>Life expectancy at birth, total (years)</th>\n",
       "    </tr>\n",
       "    <tr>\n",
       "      <th>Year</th>\n",
       "      <th></th>\n",
       "    </tr>\n",
       "  </thead>\n",
       "  <tbody>\n",
       "    <tr>\n",
       "      <th>2018</th>\n",
       "      <td>73.096</td>\n",
       "    </tr>\n",
       "    <tr>\n",
       "      <th>2017</th>\n",
       "      <td>72.872</td>\n",
       "    </tr>\n",
       "    <tr>\n",
       "      <th>2016</th>\n",
       "      <td>72.644</td>\n",
       "    </tr>\n",
       "    <tr>\n",
       "      <th>2015</th>\n",
       "      <td>72.412</td>\n",
       "    </tr>\n",
       "    <tr>\n",
       "      <th>2014</th>\n",
       "      <td>72.175</td>\n",
       "    </tr>\n",
       "  </tbody>\n",
       "</table>\n",
       "</div>"
      ],
      "text/plain": [
       "     Life expectancy at birth, total (years)\n",
       "Year                                        \n",
       "2018                                  73.096\n",
       "2017                                  72.872\n",
       "2016                                  72.644\n",
       "2015                                  72.412\n",
       "2014                                  72.175"
      ]
     },
     "execution_count": 22,
     "metadata": {},
     "output_type": "execute_result"
    }
   ],
   "source": [
    "df_life_expectancy = df1[(df1[\"Indicator Name\"] == \"Life expectancy at birth, total (years)\") & (df1[\"Year\"] <= \"2018\") & (df1[\"Year\"] >= \"2010\")]\n",
    "df_life_expectancy.set_index('Year', inplace=True)\n",
    "df_life_expectancy.rename(columns={'Value': 'Life expectancy at birth, total (years)'}, inplace=True)\n",
    "df_life_expectancy.drop(['Indicator Name'], axis = 1, inplace=True)\n",
    "df_life_expectancy.head()"
   ]
  },
  {
   "cell_type": "code",
   "execution_count": 23,
   "metadata": {},
   "outputs": [
    {
     "data": {
      "text/html": [
       "<div>\n",
       "<style scoped>\n",
       "    .dataframe tbody tr th:only-of-type {\n",
       "        vertical-align: middle;\n",
       "    }\n",
       "\n",
       "    .dataframe tbody tr th {\n",
       "        vertical-align: top;\n",
       "    }\n",
       "\n",
       "    .dataframe thead th {\n",
       "        text-align: right;\n",
       "    }\n",
       "</style>\n",
       "<table border=\"1\" class=\"dataframe\">\n",
       "  <thead>\n",
       "    <tr style=\"text-align: right;\">\n",
       "      <th></th>\n",
       "      <th>GDP (current US$)</th>\n",
       "      <th>GDP growth (annual %)</th>\n",
       "      <th>Life expectancy at birth, total (years)</th>\n",
       "    </tr>\n",
       "    <tr>\n",
       "      <th>Year</th>\n",
       "      <th></th>\n",
       "      <th></th>\n",
       "      <th></th>\n",
       "    </tr>\n",
       "  </thead>\n",
       "  <tbody>\n",
       "    <tr>\n",
       "      <th>2010</th>\n",
       "      <td>1.844800e+10</td>\n",
       "      <td>1.364784</td>\n",
       "      <td>71.210</td>\n",
       "    </tr>\n",
       "    <tr>\n",
       "      <th>2011</th>\n",
       "      <td>2.028400e+10</td>\n",
       "      <td>2.216835</td>\n",
       "      <td>71.449</td>\n",
       "    </tr>\n",
       "    <tr>\n",
       "      <th>2012</th>\n",
       "      <td>2.138600e+10</td>\n",
       "      <td>1.880955</td>\n",
       "      <td>71.692</td>\n",
       "    </tr>\n",
       "    <tr>\n",
       "      <th>2013</th>\n",
       "      <td>2.199097e+10</td>\n",
       "      <td>1.847287</td>\n",
       "      <td>71.935</td>\n",
       "    </tr>\n",
       "    <tr>\n",
       "      <th>2014</th>\n",
       "      <td>2.259348e+10</td>\n",
       "      <td>1.951944</td>\n",
       "      <td>72.175</td>\n",
       "    </tr>\n",
       "    <tr>\n",
       "      <th>2015</th>\n",
       "      <td>2.343824e+10</td>\n",
       "      <td>2.395028</td>\n",
       "      <td>72.412</td>\n",
       "    </tr>\n",
       "    <tr>\n",
       "      <th>2016</th>\n",
       "      <td>2.419144e+10</td>\n",
       "      <td>2.546533</td>\n",
       "      <td>72.644</td>\n",
       "    </tr>\n",
       "    <tr>\n",
       "      <th>2017</th>\n",
       "      <td>2.497920e+10</td>\n",
       "      <td>2.249942</td>\n",
       "      <td>72.872</td>\n",
       "    </tr>\n",
       "    <tr>\n",
       "      <th>2018</th>\n",
       "      <td>2.611740e+10</td>\n",
       "      <td>2.430960</td>\n",
       "      <td>73.096</td>\n",
       "    </tr>\n",
       "  </tbody>\n",
       "</table>\n",
       "</div>"
      ],
      "text/plain": [
       "      GDP (current US$)  GDP growth (annual %)  \\\n",
       "Year                                             \n",
       "2010       1.844800e+10               1.364784   \n",
       "2011       2.028400e+10               2.216835   \n",
       "2012       2.138600e+10               1.880955   \n",
       "2013       2.199097e+10               1.847287   \n",
       "2014       2.259348e+10               1.951944   \n",
       "2015       2.343824e+10               2.395028   \n",
       "2016       2.419144e+10               2.546533   \n",
       "2017       2.497920e+10               2.249942   \n",
       "2018       2.611740e+10               2.430960   \n",
       "\n",
       "      Life expectancy at birth, total (years)  \n",
       "Year                                           \n",
       "2010                                   71.210  \n",
       "2011                                   71.449  \n",
       "2012                                   71.692  \n",
       "2013                                   71.935  \n",
       "2014                                   72.175  \n",
       "2015                                   72.412  \n",
       "2016                                   72.644  \n",
       "2017                                   72.872  \n",
       "2018                                   73.096  "
      ]
     },
     "execution_count": 23,
     "metadata": {},
     "output_type": "execute_result"
    }
   ],
   "source": [
    "df1_clean = df_gdp.join([df_gdp_growth, df_life_expectancy])\n",
    "df1_clean = df1_clean[~df1_clean.index.duplicated(keep='first')]\n",
    "df1_clean.index = df1_clean.index.astype(int)\n",
    "df1_clean[['GDP (current US$)', 'GDP growth (annual %)','Life expectancy at birth, total (years)']] = df1_clean[['GDP (current US$)', 'GDP growth (annual %)','Life expectancy at birth, total (years)']].astype(float)\n",
    "df1_clean"
   ]
  },
  {
   "cell_type": "markdown",
   "metadata": {},
   "source": [
    "### Reflections after cleaning & preprocessing:\n",
    "Reorganizing the data into the single (and appropriately structured) dataframe was quite straight forward and is most definitely much clearer to understand and work with now. However, during the process, I realized that data for the 'Physicians (per 1000 people)' indicator was only available for 2 of the 8 year sample size I would be using in the investigation, so I decided to drop the column alltogether. Then after errors when trying to graph the data, I realized I had to convert the dates to integers and all other values to floats (from objects), for use in the upcoming visualizations. Finally, I also noticed there were duplicates for the years 2010-2014, resulting in a rather simple dropping of the second instance of each value."
   ]
  },
  {
   "cell_type": "markdown",
   "metadata": {},
   "source": [
    "## 3. Methods\n",
    "\n",
    "### Which parts of the dataset are most relevant?\n",
    "The indicators I will be using in this investigation are: GDP, GDP Growth, Life expectancy at birth, total (years). Although unfortunately, all except one are \"incomplete\" in how they do not cover the 2010-2018 timeframe chosen for said investigation. This means I will have to either count them as NA or find reliable values elsewhere.\n",
    "\n",
    "### Which methods do I want to use to answer the questions?\n",
    "- Standard deviations\n",
    "- The rule of 70\n",
    "- Seaborn visualizations, more specifically it's regplots\n",
    " \n",
    "These 3 methods would quite clearly show whether or not El Salvador's economy (broadly speaking) is growing or declining. Also giving an idea of at what rate this is happening."
   ]
  },
  {
   "cell_type": "code",
   "execution_count": 24,
   "metadata": {},
   "outputs": [
    {
     "data": {
      "text/plain": [
       "<matplotlib.axes._subplots.AxesSubplot at 0x7fa7fd004a30>"
      ]
     },
     "execution_count": 24,
     "metadata": {},
     "output_type": "execute_result"
    },
    {
     "data": {
      "image/png": "[encoded data removed]",
      "text/plain": [
       "<Figure size 432x288 with 1 Axes>"
      ]
     },
     "metadata": {},
     "output_type": "display_data"
    }
   ],
   "source": [
    "sns.set()\n",
    "\n",
    "sns.regplot(x=df1_clean.index, y=\"GDP (current US$)\", data=df1_clean)"
   ]
  },
  {
   "cell_type": "code",
   "execution_count": 25,
   "metadata": {},
   "outputs": [
    {
     "data": {
      "text/plain": [
       "<matplotlib.axes._subplots.AxesSubplot at 0x7fa7e3c58670>"
      ]
     },
     "execution_count": 25,
     "metadata": {},
     "output_type": "execute_result"
    },
    {
     "data": {
      "image/png": "[encoded data removed]",
      "text/plain": [
       "<Figure size 432x288 with 1 Axes>"
      ]
     },
     "metadata": {},
     "output_type": "display_data"
    }
   ],
   "source": [
    "sns.regplot(x=df1_clean.index, y=\"GDP growth (annual %)\", data=df1_clean)"
   ]
  },
  {
   "cell_type": "code",
   "execution_count": 26,
   "metadata": {},
   "outputs": [
    {
     "data": {
      "text/plain": [
       "<matplotlib.axes._subplots.AxesSubplot at 0x7fa7e3d29910>"
      ]
     },
     "execution_count": 26,
     "metadata": {},
     "output_type": "execute_result"
    },
    {
     "data": {
      "image/png": "[encoded data removed]",
      "text/plain": [
       "<Figure size 432x288 with 1 Axes>"
      ]
     },
     "metadata": {},
     "output_type": "display_data"
    }
   ],
   "source": [
    "sns.regplot(x=df1_clean.index, y=\"Life expectancy at birth, total (years)\", data=df1_clean)"
   ]
  },
  {
   "cell_type": "code",
   "execution_count": 27,
   "metadata": {},
   "outputs": [
    {
     "name": "stdout",
     "output_type": "stream",
     "text": [
      "GDP std ($) = 2390492818.1746216\n",
      "GDP Growth std (%)= 0.37188409919063276\n",
      "Life Expectancy std (years) = 0.6479265004612825\n",
      "El Salvador's GDP growth rate is in average 2.0982521776965446\n"
     ]
    }
   ],
   "source": [
    "gdp_std = df1_clean['GDP (current US$)'].std()\n",
    "gdp_growth_std = df1_clean['GDP growth (annual %)'].std()\n",
    "gdp_life_expectancy_std = df1_clean['Life expectancy at birth, total (years)'].std()\n",
    "gdp_growth_mean = df1_clean['GDP growth (annual %)'].mean()\n",
    "\n",
    "print(\"GDP std ($) =\", gdp_std)\n",
    "print(\"GDP Growth std (%)=\", gdp_growth_std)\n",
    "print(\"Life Expectancy std (years) =\", gdp_life_expectancy_std)\n",
    "\n",
    "print(\"El Salvador's GDP growth rate is in average\", gdp_growth_mean)"
   ]
  },
  {
   "cell_type": "code",
   "execution_count": 28,
   "metadata": {},
   "outputs": [
    {
     "name": "stdout",
     "output_type": "stream",
     "text": [
      "El Salvador's economy can be estimated to double in size in approximately 29 years\n"
     ]
    }
   ],
   "source": [
    "latest_growth_rate = df1_clean['GDP growth (annual %)'].iloc[-1]\n",
    "ro70 = 70 / latest_growth_rate\n",
    "ro70 = ro70.round(0).astype(int)\n",
    "\n",
    "print(\"El Salvador's economy can be estimated to double in size in approximately\", ro70, \"years\")"
   ]
  },
  {
   "cell_type": "markdown",
   "metadata": {},
   "source": [
    "## 4. Results and discussion\n",
    "\n",
    "### Individual Results\n",
    "- Given the context of the indicators taken into consideration (namely GDP, GDP Growth rate, and life expectancy) and how strongly they relate to the state of a country's economy, it is safe to say that El Salvador's economy is in fact growing. Not only that, but also that it is doing so at a rather fast and steady rate.\n",
    "- El Salvador's GDP has an average (between 2010 and 2018) growth rate of 2.1%, a relatively high figure when compared to those from other countries like Germany and its equal 2.1% figure for the same period of time.\n",
    "- El Salvador's GDP has a rather large standard deviation of 2390492818, supporting the idea that the country's economy is changing (in this case for the better) at a high rate.\n",
    "  El Salvador's GDP Growth and Life Expectancy's standard deviations of 0.37 and 0.65 respectively along with the data visualizations suggest a linear and consistent growth.\n",
    "- El Salvador's economy can be estimated to double in size in approximately 29 years\n",
    "\n",
    "### The big picture\n",
    "- Is El Salvador's economy actually improving or declining? Results show quite clearly that El Salvador's economy is in fact, generally speaking, improving. Additionally, they show that it is growing at a relatively fast rate with an average GDP growth rate of 2.1, the same figure as germany (during the same timeframe as this investigation betweenm 2010 and 2018).\n",
    "- This conclusion comes to me as somewhat of a reaffirmation. However when comparing it to \"what is known\" to the salvadoran people in general, this conclusion actually differs. Given a consistently negative perception of the political and governmental bodies of the country, most people assume and believe the country and subsequently its economy only gets worse as time goes by. Eventhough factual data is quite easy to attain with access to the internet, people will very rarely look into the matter. This, in my opinion only makes Salvadorans' negative self-perception even worse.\n",
    "- Admittedly, this investigation could really benefit from both a larger sample size (a longer time frame) and the addition of a few more variables. These variables would ideally consist of literacy rate, infant mortality rate, human development index (HDI), birth & death rates, and gross national product (GNP), as these are widely known as the most relevant indicators of economic development."
   ]
  }
 ],
 "metadata": {
  "kernelspec": {
   "display_name": "Python 3",
   "language": "python",
   "name": "python3"
  },
  "language_info": {
   "codemirror_mode": {
    "name": "ipython",
    "version": 3
   },
   "file_extension": ".py",
   "mimetype": "text/x-python",
   "name": "python",
   "nbconvert_exporter": "python",
   "pygments_lexer": "ipython3",
   "version": "3.8.3"
  }
 },
 "nbformat": 4,
 "nbformat_minor": 4
}
